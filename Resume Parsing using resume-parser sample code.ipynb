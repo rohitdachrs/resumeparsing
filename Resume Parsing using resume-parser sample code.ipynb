{
 "cells": [
  {
   "cell_type": "code",
   "execution_count": 1,
   "id": "8b4c8137",
   "metadata": {},
   "outputs": [
    {
     "name": "stderr",
     "output_type": "stream",
     "text": [
      "/Users/rohitsanam/opt/anaconda3/lib/python3.8/site-packages/spacy/util.py:275: UserWarning: [W031] Model 'en_training' (0.0.0) requires spaCy v2.2 and is incompatible with the current spaCy version (2.3.5). This may lead to unexpected results or runtime errors. To resolve this, download a newer compatible model or retrain your custom model with the current spaCy version. For more details and available updates, run: python -m spacy validate\n",
      "  warnings.warn(warn_msg)\n"
     ]
    }
   ],
   "source": [
    "import pandas as pd\n",
    "import numpy as np\n",
    "from resume_parser import resumeparse\n",
    "import os"
   ]
  },
  {
   "cell_type": "code",
   "execution_count": 2,
   "id": "ca68fcc4",
   "metadata": {},
   "outputs": [],
   "source": [
    "pdf_resumes = [resume for resume in os.listdir() if resume.endswith('.pdf')]"
   ]
  },
  {
   "cell_type": "code",
   "execution_count": 3,
   "id": "ba2a2bd2",
   "metadata": {},
   "outputs": [
    {
     "data": {
      "text/plain": [
       "['Gupta’s resume.pdf',\n",
       " 'Ranjani’s resume.pdf',\n",
       " 'Anil’s resume-3.pdf',\n",
       " 'Muthamil’s resume-1.pdf']"
      ]
     },
     "execution_count": 3,
     "metadata": {},
     "output_type": "execute_result"
    }
   ],
   "source": [
    "pdf_resumes"
   ]
  },
  {
   "cell_type": "code",
   "execution_count": 4,
   "id": "64b21d8f",
   "metadata": {},
   "outputs": [
    {
     "name": "stderr",
     "output_type": "stream",
     "text": [
      "2021-12-14 18:47:28,446 [MainThread  ] [INFO ]  Retrieving http://search.maven.org/remotecontent?filepath=org/apache/tika/tika-server/1.24/tika-server-1.24.jar to /var/folders/80/jm4pt7dn3c5__w0hkxm6fb3h0000gn/T/tika-server.jar.\n",
      "2021-12-14 18:47:57,128 [MainThread  ] [INFO ]  Retrieving http://search.maven.org/remotecontent?filepath=org/apache/tika/tika-server/1.24/tika-server-1.24.jar.md5 to /var/folders/80/jm4pt7dn3c5__w0hkxm6fb3h0000gn/T/tika-server.jar.md5.\n",
      "2021-12-14 18:47:58,637 [MainThread  ] [WARNI]  Failed to see startup log message; retrying...\n"
     ]
    },
    {
     "name": "stdout",
     "output_type": "stream",
     "text": [
      "{'email': 'gvvishnumk@gmail.com', 'phone': '+9505360853', 'name': 'VISHNUVARDHAN NAIDU', 'total_exp': 0, 'university': [], 'designition': ['devops', 'devops engineer', 'noc engineer', 'balancer'], 'degree': ['Bachelors in B.com Computers'], 'skills': [':', 'Key Projects:', 'Roles and Responsibilities:', 'Roles and Responsibilities: (1) Known : English', ' Hindi', ' and Telugu.', 'Current Location : Anantapur.', 'DECLARATION', 'I do hereby declare that the above information is true to the best of my knowledge.', 'Place: Signature', 'Date: (Gupta Vishnuvardhan Naidu)', 'KEY SKILLS AND PROFESSIONAL EXPERIENCE SUMMARY'], 'Companies worked at': ['Amazon', 'NOC Engineer', 'Devops Engineer Company: Evolutionary Systems Pvt. Ltd.']}\n",
      "\n",
      "{'email': 'ranju.jana20@gmail.com', 'phone': '+91 7708509272', 'name': 'RANJANI B.J', 'total_exp': 2, 'university': [], 'designition': ['devops', 'devops engineer', 'operator'], 'degree': [], 'skills': ['Kubernetes', ' Ansible', ' Docker', ' AWS', ' Terraform', ' Python.'], 'Companies worked at': []}\n",
      "\n",
      "{'email': 'anilkdahiya08@gmail.com', 'phone': '+91-9607225237', 'name': '', 'total_exp': 0, 'university': [], 'designition': ['devops', 'senior principal', 'principal engineer', 'cloud architect', 'balancer', 'senior principal software engineer', 'principal software engineer', 'software engineer', 'technical lead', 'devops consultant', 'associate', 'product engineer', 'senior software engineer', 'systems engineer'], 'degree': ['Bachelor of Computer Engineering'], 'skills': ['microsoft azure', 'aws', 'containerization', 'edge', 'replication', 'plus', 'ltd', 'linux kernel', 'sql', 'amazon', 'file servers', 'linux', 'web', 'vlan', 'embedded', 'horizon', 'mac', 'kernel', 'scripting', 'ip', 'debugging', 'rackspace', 'bigtable', 'network security', 'web applications', 'database', 'ldap', 'architecture', 'ec2', 'python', 'crio', 'device drivers', 'eclipse', 'pipelines', 'cgl', 'red hat', 'connectivity', 'jenkins', 'cloud computing', 'design', 'ict', 'windriver', 'ubuntu', 'security', 'enterprise', 'ipv4', 'sas', 'auditing', 'dns server', 'routing', 'vmware', 'mac os', 'fips', 'configuration management', 'heat', 'google', 'mobility', 'mobile', 'atca', 'keystone', 'devops', 'nis', 'ansible', 'aggregation', 'servers', 'centos', 'android', 'apache', 'authentication', 'communications', 'lxc', 'app', 'ipc', 'google cloud', 'one', 'intel', 'mysql', 'operating systems', 'drbd', 'yarn', 'devices', 'thin', 'netfilter', 'rhel', 'symphony', 'versioning', 'technical proficiency', 'docker', 'strace', 'load', 'virtual machines', 'encryption', 'protocol', 'throughput', 'link aggregation', 'microsoft', 'azure', 'cluster', 'im', 'openshift', 'c', 'cd', 'kerberos', 'tcpdump', 'kubernetes', 'git', 'vendor management', 'vista', 'shell scripting', 'ssl', 'family', 'storage', 'live', 'computing', 'x86', 'access', 'vm', 'openssl', 'automation', 'application', 'it', 'framework', 'xcode', 'cloud', 'active directory', 's3', 'openstack', 'space', 'languages', 'email', 'leadership', 'technology', 'resolve', 'ci', 'computer engineering', 'network configuration', 'hadoop', 'rbac', 'vsts', 'neutron', 'assembly'], 'Companies worked at': ['T Systems ICT India Pvt Ltd', 'Google DataPoc Apache Hadoop Services', 'Hashmap Tech India Pvt Ltd', 'AgreeYa Mobility India Pvt Ltd', 'Calsoft Pvt Ltd', 'Emerson Network Power Pvt Ltd', 'http://www.emersonnetworkpower.com Joined Motorola India Pvt Ltd', 'Systems Engineer NeoAccel India Pvt Ltd', 'Node Infotech Pvt Ltd']}\n",
      "\n",
      "{'email': 'muthamilselvamn@gmail.com', 'phone': '+918667722018', 'name': 'MUTHAMIL SELVAM', 'total_exp': 0, 'university': ['sastra deemed university'], 'designition': ['devops', 'system engineer', 'technical lead', 'database administrator'], 'degree': [], 'skills': ['Shell Scripting', 'Hands-on experience in developing shell scripts for Running and Deploying applications', ' Executing', 'routine backups for databases', ' Monitor several tasks like disk usage', ' etc. on Linux Servers.', 'UNIX', 'Creating cron jobs for timed restart of services', ' Database Management/alerting using mutt or mailx', 'utilities and RHEL (Red Hat Enterprise Linux) file system activities', ' etc.', 'Redhat JBOSS Administration', 'Hands-on Experience on building', ' setting-up', ' hosting Java applications on JBoss Enterprise', 'Application Platform and also configuring/upgrading JBoss EAP.', 'Sound understanding of OOPS concepts and a good knowledge in Core Java. Also knows C', ' C++ and', 'Python. Have interest in working on any new technologies.', 'DevOps', 'Sound understanding and Hands-on Experience in CI/CD deployments and basic knowledge and', 'experience on various DevOps tools.', 'Good communication', ' Quick learning and Problem-Solving Skills.'], 'Companies worked at': []}\n",
      "\n"
     ]
    }
   ],
   "source": [
    "for resume in range(len(pdf_resumes)):\n",
    "    data = resumeparse.read_file(pdf_resumes[resume])\n",
    "    print(data)\n",
    "    print()\n",
    "    resume = resume+1"
   ]
  },
  {
   "cell_type": "code",
   "execution_count": 5,
   "id": "3956df52",
   "metadata": {},
   "outputs": [
    {
     "name": "stdout",
     "output_type": "stream",
     "text": [
      "+9505360853\n"
     ]
    },
    {
     "name": "stderr",
     "output_type": "stream",
     "text": [
      "<ipython-input-5-419daf4b5741>:3: DeprecationWarning: The default dtype for empty Series will be 'object' instead of 'float64' in a future version. Specify a dtype explicitly to silence this warning.\n",
      "  data_series = pd.Series(data)\n"
     ]
    }
   ],
   "source": [
    "data = resumeparse.read_file('Gupta’s resume.pdf')\n",
    "data  = print(data['phone'])\n",
    "data_series = pd.Series(data)\n",
    "df = pd.DataFrame(data_series)\n",
    "\n",
    "data_1 = resumeparse.read_file('Ranjani’s resume.pdf')\n",
    "data_1_series = pd.Series(data_1)\n",
    "df1 = pd.DataFrame(data_1_series)\n",
    "\n",
    "data_2 = resumeparse.read_file('Anil’s resume-3.pdf')\n",
    "data_2_series = pd.Series(data_2)\n",
    "df2 = pd.DataFrame(data_2_series)\n",
    "\n",
    "data_3 = resumeparse.read_file('Muthamil’s resume-1.pdf')\n",
    "data_3_series = pd.Series(data_3)\n",
    "df3 = pd.DataFrame(data_3_series)\n",
    "\n",
    "df = df.T\n",
    "\n",
    "df1 = df1.T\n",
    "\n",
    "df2 = df2.T\n",
    "\n",
    "df3 = df3.T"
   ]
  },
  {
   "cell_type": "code",
   "execution_count": 16,
   "id": "7e9e6f8a",
   "metadata": {},
   "outputs": [
    {
     "data": {
      "text/html": [
       "<div>\n",
       "<style scoped>\n",
       "    .dataframe tbody tr th:only-of-type {\n",
       "        vertical-align: middle;\n",
       "    }\n",
       "\n",
       "    .dataframe tbody tr th {\n",
       "        vertical-align: top;\n",
       "    }\n",
       "\n",
       "    .dataframe thead th {\n",
       "        text-align: right;\n",
       "    }\n",
       "</style>\n",
       "<table border=\"1\" class=\"dataframe\">\n",
       "  <thead>\n",
       "    <tr style=\"text-align: right;\">\n",
       "      <th></th>\n",
       "      <th>email</th>\n",
       "      <th>phone</th>\n",
       "      <th>name</th>\n",
       "      <th>total_exp</th>\n",
       "      <th>university</th>\n",
       "      <th>designition</th>\n",
       "      <th>degree</th>\n",
       "      <th>skills</th>\n",
       "      <th>Companies worked at</th>\n",
       "    </tr>\n",
       "  </thead>\n",
       "  <tbody>\n",
       "    <tr>\n",
       "      <th>0</th>\n",
       "      <td>gvvishnumk@gmail.com</td>\n",
       "      <td>+9505360853</td>\n",
       "      <td>VISHNUVARDHAN NAIDU</td>\n",
       "      <td>0</td>\n",
       "      <td>[]</td>\n",
       "      <td>[devops, devops engineer, noc engineer, balancer]</td>\n",
       "      <td>[Bachelors in B.com Computers]</td>\n",
       "      <td>[:, Key Projects:, Roles and Responsibilities:...</td>\n",
       "      <td>[Amazon, NOC Engineer, Devops Engineer Company...</td>\n",
       "    </tr>\n",
       "  </tbody>\n",
       "</table>\n",
       "</div>"
      ],
      "text/plain": [
       "                  email  ...                                Companies worked at\n",
       "0  gvvishnumk@gmail.com  ...  [Amazon, NOC Engineer, Devops Engineer Company...\n",
       "\n",
       "[1 rows x 9 columns]"
      ]
     },
     "execution_count": 16,
     "metadata": {},
     "output_type": "execute_result"
    }
   ],
   "source": [
    "df"
   ]
  },
  {
   "cell_type": "code",
   "execution_count": 17,
   "id": "42910702",
   "metadata": {},
   "outputs": [
    {
     "data": {
      "text/html": [
       "<div>\n",
       "<style scoped>\n",
       "    .dataframe tbody tr th:only-of-type {\n",
       "        vertical-align: middle;\n",
       "    }\n",
       "\n",
       "    .dataframe tbody tr th {\n",
       "        vertical-align: top;\n",
       "    }\n",
       "\n",
       "    .dataframe thead th {\n",
       "        text-align: right;\n",
       "    }\n",
       "</style>\n",
       "<table border=\"1\" class=\"dataframe\">\n",
       "  <thead>\n",
       "    <tr style=\"text-align: right;\">\n",
       "      <th></th>\n",
       "      <th>email</th>\n",
       "      <th>phone</th>\n",
       "      <th>name</th>\n",
       "      <th>total_exp</th>\n",
       "      <th>university</th>\n",
       "      <th>designition</th>\n",
       "      <th>degree</th>\n",
       "      <th>skills</th>\n",
       "      <th>Companies worked at</th>\n",
       "    </tr>\n",
       "  </thead>\n",
       "  <tbody>\n",
       "    <tr>\n",
       "      <th>0</th>\n",
       "      <td>ranju.jana20@gmail.com</td>\n",
       "      <td>+91 7708509272</td>\n",
       "      <td>RANJANI B.J</td>\n",
       "      <td>2</td>\n",
       "      <td>[]</td>\n",
       "      <td>[devops, devops engineer, operator]</td>\n",
       "      <td>[]</td>\n",
       "      <td>[Kubernetes,  Ansible,  Docker,  AWS,  Terrafo...</td>\n",
       "      <td>[]</td>\n",
       "    </tr>\n",
       "  </tbody>\n",
       "</table>\n",
       "</div>"
      ],
      "text/plain": [
       "                    email  ... Companies worked at\n",
       "0  ranju.jana20@gmail.com  ...                  []\n",
       "\n",
       "[1 rows x 9 columns]"
      ]
     },
     "execution_count": 17,
     "metadata": {},
     "output_type": "execute_result"
    }
   ],
   "source": [
    "df1"
   ]
  },
  {
   "cell_type": "code",
   "execution_count": 18,
   "id": "cd576aae",
   "metadata": {},
   "outputs": [
    {
     "data": {
      "text/html": [
       "<div>\n",
       "<style scoped>\n",
       "    .dataframe tbody tr th:only-of-type {\n",
       "        vertical-align: middle;\n",
       "    }\n",
       "\n",
       "    .dataframe tbody tr th {\n",
       "        vertical-align: top;\n",
       "    }\n",
       "\n",
       "    .dataframe thead th {\n",
       "        text-align: right;\n",
       "    }\n",
       "</style>\n",
       "<table border=\"1\" class=\"dataframe\">\n",
       "  <thead>\n",
       "    <tr style=\"text-align: right;\">\n",
       "      <th></th>\n",
       "      <th>email</th>\n",
       "      <th>phone</th>\n",
       "      <th>name</th>\n",
       "      <th>total_exp</th>\n",
       "      <th>university</th>\n",
       "      <th>designition</th>\n",
       "      <th>degree</th>\n",
       "      <th>skills</th>\n",
       "      <th>Companies worked at</th>\n",
       "    </tr>\n",
       "  </thead>\n",
       "  <tbody>\n",
       "    <tr>\n",
       "      <th>0</th>\n",
       "      <td>anilkdahiya08@gmail.com</td>\n",
       "      <td>+91-9607225237</td>\n",
       "      <td></td>\n",
       "      <td>0</td>\n",
       "      <td>[]</td>\n",
       "      <td>[devops, senior principal, principal engineer,...</td>\n",
       "      <td>[Bachelor of Computer Engineering]</td>\n",
       "      <td>[bigtable, vlan, rhel, vista, thin, python, ma...</td>\n",
       "      <td>[T Systems ICT India Pvt Ltd, Google DataPoc A...</td>\n",
       "    </tr>\n",
       "  </tbody>\n",
       "</table>\n",
       "</div>"
      ],
      "text/plain": [
       "                     email  ...                                Companies worked at\n",
       "0  anilkdahiya08@gmail.com  ...  [T Systems ICT India Pvt Ltd, Google DataPoc A...\n",
       "\n",
       "[1 rows x 9 columns]"
      ]
     },
     "execution_count": 18,
     "metadata": {},
     "output_type": "execute_result"
    }
   ],
   "source": [
    "df2"
   ]
  },
  {
   "cell_type": "code",
   "execution_count": 19,
   "id": "1f2f9a73",
   "metadata": {},
   "outputs": [
    {
     "data": {
      "text/html": [
       "<div>\n",
       "<style scoped>\n",
       "    .dataframe tbody tr th:only-of-type {\n",
       "        vertical-align: middle;\n",
       "    }\n",
       "\n",
       "    .dataframe tbody tr th {\n",
       "        vertical-align: top;\n",
       "    }\n",
       "\n",
       "    .dataframe thead th {\n",
       "        text-align: right;\n",
       "    }\n",
       "</style>\n",
       "<table border=\"1\" class=\"dataframe\">\n",
       "  <thead>\n",
       "    <tr style=\"text-align: right;\">\n",
       "      <th></th>\n",
       "      <th>email</th>\n",
       "      <th>phone</th>\n",
       "      <th>name</th>\n",
       "      <th>total_exp</th>\n",
       "      <th>university</th>\n",
       "      <th>designition</th>\n",
       "      <th>degree</th>\n",
       "      <th>skills</th>\n",
       "      <th>Companies worked at</th>\n",
       "    </tr>\n",
       "  </thead>\n",
       "  <tbody>\n",
       "    <tr>\n",
       "      <th>0</th>\n",
       "      <td>muthamilselvamn@gmail.com</td>\n",
       "      <td>+918667722018</td>\n",
       "      <td>MUTHAMIL SELVAM</td>\n",
       "      <td>0</td>\n",
       "      <td>[sastra deemed university]</td>\n",
       "      <td>[devops, system engineer, technical lead, data...</td>\n",
       "      <td>[]</td>\n",
       "      <td>[Shell Scripting, Hands-on experience in devel...</td>\n",
       "      <td>[]</td>\n",
       "    </tr>\n",
       "  </tbody>\n",
       "</table>\n",
       "</div>"
      ],
      "text/plain": [
       "                       email  ... Companies worked at\n",
       "0  muthamilselvamn@gmail.com  ...                  []\n",
       "\n",
       "[1 rows x 9 columns]"
      ]
     },
     "execution_count": 19,
     "metadata": {},
     "output_type": "execute_result"
    }
   ],
   "source": [
    "df3"
   ]
  },
  {
   "cell_type": "code",
   "execution_count": 20,
   "id": "8c866b45",
   "metadata": {},
   "outputs": [],
   "source": [
    "final_df = pd.concat([df,df1,df2,df3])"
   ]
  },
  {
   "cell_type": "code",
   "execution_count": 21,
   "id": "f08cc4e2",
   "metadata": {},
   "outputs": [
    {
     "data": {
      "text/html": [
       "<div>\n",
       "<style scoped>\n",
       "    .dataframe tbody tr th:only-of-type {\n",
       "        vertical-align: middle;\n",
       "    }\n",
       "\n",
       "    .dataframe tbody tr th {\n",
       "        vertical-align: top;\n",
       "    }\n",
       "\n",
       "    .dataframe thead th {\n",
       "        text-align: right;\n",
       "    }\n",
       "</style>\n",
       "<table border=\"1\" class=\"dataframe\">\n",
       "  <thead>\n",
       "    <tr style=\"text-align: right;\">\n",
       "      <th></th>\n",
       "      <th>email</th>\n",
       "      <th>phone</th>\n",
       "      <th>name</th>\n",
       "      <th>total_exp</th>\n",
       "      <th>university</th>\n",
       "      <th>designition</th>\n",
       "      <th>degree</th>\n",
       "      <th>skills</th>\n",
       "      <th>Companies worked at</th>\n",
       "    </tr>\n",
       "  </thead>\n",
       "  <tbody>\n",
       "    <tr>\n",
       "      <th>0</th>\n",
       "      <td>gvvishnumk@gmail.com</td>\n",
       "      <td>+9505360853</td>\n",
       "      <td>VISHNUVARDHAN NAIDU</td>\n",
       "      <td>0</td>\n",
       "      <td>[]</td>\n",
       "      <td>[devops, devops engineer, noc engineer, balancer]</td>\n",
       "      <td>[Bachelors in B.com Computers]</td>\n",
       "      <td>[:, Key Projects:, Roles and Responsibilities:...</td>\n",
       "      <td>[Amazon, NOC Engineer, Devops Engineer Company...</td>\n",
       "    </tr>\n",
       "    <tr>\n",
       "      <th>0</th>\n",
       "      <td>ranju.jana20@gmail.com</td>\n",
       "      <td>+91 7708509272</td>\n",
       "      <td>RANJANI B.J</td>\n",
       "      <td>2</td>\n",
       "      <td>[]</td>\n",
       "      <td>[devops, devops engineer, operator]</td>\n",
       "      <td>[]</td>\n",
       "      <td>[Kubernetes,  Ansible,  Docker,  AWS,  Terrafo...</td>\n",
       "      <td>[]</td>\n",
       "    </tr>\n",
       "    <tr>\n",
       "      <th>0</th>\n",
       "      <td>anilkdahiya08@gmail.com</td>\n",
       "      <td>+91-9607225237</td>\n",
       "      <td></td>\n",
       "      <td>0</td>\n",
       "      <td>[]</td>\n",
       "      <td>[devops, senior principal, principal engineer,...</td>\n",
       "      <td>[Bachelor of Computer Engineering]</td>\n",
       "      <td>[bigtable, vlan, rhel, vista, thin, python, ma...</td>\n",
       "      <td>[T Systems ICT India Pvt Ltd, Google DataPoc A...</td>\n",
       "    </tr>\n",
       "    <tr>\n",
       "      <th>0</th>\n",
       "      <td>muthamilselvamn@gmail.com</td>\n",
       "      <td>+918667722018</td>\n",
       "      <td>MUTHAMIL SELVAM</td>\n",
       "      <td>0</td>\n",
       "      <td>[sastra deemed university]</td>\n",
       "      <td>[devops, system engineer, technical lead, data...</td>\n",
       "      <td>[]</td>\n",
       "      <td>[Shell Scripting, Hands-on experience in devel...</td>\n",
       "      <td>[]</td>\n",
       "    </tr>\n",
       "  </tbody>\n",
       "</table>\n",
       "</div>"
      ],
      "text/plain": [
       "                       email  ...                                Companies worked at\n",
       "0       gvvishnumk@gmail.com  ...  [Amazon, NOC Engineer, Devops Engineer Company...\n",
       "0     ranju.jana20@gmail.com  ...                                                 []\n",
       "0    anilkdahiya08@gmail.com  ...  [T Systems ICT India Pvt Ltd, Google DataPoc A...\n",
       "0  muthamilselvamn@gmail.com  ...                                                 []\n",
       "\n",
       "[4 rows x 9 columns]"
      ]
     },
     "execution_count": 21,
     "metadata": {},
     "output_type": "execute_result"
    }
   ],
   "source": [
    "final_df"
   ]
  },
  {
   "cell_type": "code",
   "execution_count": 22,
   "id": "db29849e",
   "metadata": {},
   "outputs": [],
   "source": [
    "final_df.to_csv('pdfresumesparsed.csv')"
   ]
  },
  {
   "cell_type": "code",
   "execution_count": null,
   "id": "82487325",
   "metadata": {},
   "outputs": [],
   "source": [
    "data = resumeparse.read_file('Gupta’s resume.pdf')\n",
    "data  = print(data['p'])\n",
    "data_series = pd.Series(data)\n",
    "df = pd.DataFrame(data_series)"
   ]
  }
 ],
 "metadata": {
  "kernelspec": {
   "display_name": "Python 3",
   "language": "python",
   "name": "python3"
  },
  "language_info": {
   "codemirror_mode": {
    "name": "ipython",
    "version": 3
   },
   "file_extension": ".py",
   "mimetype": "text/x-python",
   "name": "python",
   "nbconvert_exporter": "python",
   "pygments_lexer": "ipython3",
   "version": "3.8.8"
  }
 },
 "nbformat": 4,
 "nbformat_minor": 5
}
