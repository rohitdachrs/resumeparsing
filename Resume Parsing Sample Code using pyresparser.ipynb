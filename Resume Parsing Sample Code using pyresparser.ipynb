{
 "cells": [
  {
   "cell_type": "code",
   "execution_count": 4,
   "id": "434dbf5c",
   "metadata": {},
   "outputs": [],
   "source": [
    "import pandas as pd\n",
    "import numpy as np\n",
    "import os\n",
    "from pyresparser import ResumeParser"
   ]
  },
  {
   "cell_type": "code",
   "execution_count": 7,
   "id": "460a88b1",
   "metadata": {},
   "outputs": [
    {
     "data": {
      "text/plain": [
       "'/Users/rohitsanam/Downloads/AIERECSOFT/sample resumes'"
      ]
     },
     "execution_count": 7,
     "metadata": {},
     "output_type": "execute_result"
    }
   ],
   "source": [
    "current = os.getcwd()\n",
    "current"
   ]
  },
  {
   "cell_type": "code",
   "execution_count": 9,
   "id": "1a5198bd",
   "metadata": {},
   "outputs": [
    {
     "ename": "FileNotFoundError",
     "evalue": "[Errno 2] No such file or directory: '/Users/rohitsanam/Downloads/AIERECSOFT/sample resumes/sample resumes'",
     "output_type": "error",
     "traceback": [
      "\u001b[0;31m---------------------------------------------------------------------------\u001b[0m",
      "\u001b[0;31mFileNotFoundError\u001b[0m                         Traceback (most recent call last)",
      "\u001b[0;32m<ipython-input-9-4e90b98b0a22>\u001b[0m in \u001b[0;36m<module>\u001b[0;34m\u001b[0m\n\u001b[0;32m----> 1\u001b[0;31m \u001b[0mos\u001b[0m\u001b[0;34m.\u001b[0m\u001b[0mchdir\u001b[0m\u001b[0;34m(\u001b[0m\u001b[0mcurrent\u001b[0m\u001b[0;34m+\u001b[0m\u001b[0;34m\"/\"\u001b[0m\u001b[0;34m+\u001b[0m\u001b[0;34m\"sample resumes\"\u001b[0m\u001b[0;34m)\u001b[0m\u001b[0;34m\u001b[0m\u001b[0;34m\u001b[0m\u001b[0m\n\u001b[0m",
      "\u001b[0;31mFileNotFoundError\u001b[0m: [Errno 2] No such file or directory: '/Users/rohitsanam/Downloads/AIERECSOFT/sample resumes/sample resumes'"
     ]
    }
   ],
   "source": [
    "os.chdir(current+\"/\"+\"sample resumes\")"
   ]
  },
  {
   "cell_type": "code",
   "execution_count": 10,
   "id": "bcb27dfd",
   "metadata": {},
   "outputs": [
    {
     "data": {
      "text/plain": [
       "'/Users/rohitsanam/Downloads/AIERECSOFT/sample resumes'"
      ]
     },
     "execution_count": 10,
     "metadata": {},
     "output_type": "execute_result"
    }
   ],
   "source": [
    "os.getcwd()"
   ]
  },
  {
   "cell_type": "code",
   "execution_count": 11,
   "id": "a83ef464",
   "metadata": {},
   "outputs": [
    {
     "data": {
      "text/plain": [
       "['resumeparser.py',\n",
       " 'Gupta’s resume.pdf',\n",
       " 'debaraj’s resume.docx',\n",
       " 'Ajay’s resume-3.docx',\n",
       " 'Resume Parsing using resume-parser sample code.ipynb',\n",
       " 'Ranjani’s resume.pdf',\n",
       " 'Anil’s resume-3.pdf',\n",
       " '.ipynb_checkpoints',\n",
       " 'Resume Parsing Sample Code using pyresparser.ipynb',\n",
       " 'Muthamil’s resume-1.pdf',\n",
       " 'pdfresumesparsed.csv',\n",
       " 'ExtractedDetails.csv']"
      ]
     },
     "execution_count": 11,
     "metadata": {},
     "output_type": "execute_result"
    }
   ],
   "source": [
    "os.listdir()"
   ]
  },
  {
   "cell_type": "code",
   "execution_count": 12,
   "id": "2817c3ef",
   "metadata": {},
   "outputs": [
    {
     "data": {
      "text/plain": [
       "['Gupta’s resume.pdf',\n",
       " 'Ranjani’s resume.pdf',\n",
       " 'Anil’s resume-3.pdf',\n",
       " 'Muthamil’s resume-1.pdf']"
      ]
     },
     "execution_count": 12,
     "metadata": {},
     "output_type": "execute_result"
    }
   ],
   "source": [
    "pdf_files = [file for file in os.listdir() if file.endswith('.pdf')]\n",
    "pdf_files      "
   ]
  },
  {
   "cell_type": "code",
   "execution_count": null,
   "id": "4a305b66",
   "metadata": {},
   "outputs": [],
   "source": [
    "docx_files = [file for file in os.listdir() if file.endswith('.docx')]\n",
    "docx_files      "
   ]
  },
  {
   "cell_type": "code",
   "execution_count": null,
   "id": "c761581f",
   "metadata": {},
   "outputs": [],
   "source": [
    "data = ResumeParser('Gupta’s resume.pdf').get_extracted_data()\n",
    "data_series = pd.Series(data)\n",
    "df = pd.DataFrame(data_series)"
   ]
  },
  {
   "cell_type": "code",
   "execution_count": null,
   "id": "1ded0f32",
   "metadata": {},
   "outputs": [],
   "source": [
    "data_1 = ResumeParser('Ranjani’s resume.pdf').get_extracted_data()\n",
    "data_1_series = pd.Series(data_1)\n",
    "df1 = pd.DataFrame(data_1_series)"
   ]
  },
  {
   "cell_type": "code",
   "execution_count": null,
   "id": "c4c27a46",
   "metadata": {},
   "outputs": [],
   "source": [
    "data_2 = ResumeParser('Anil’s resume-3.pdf').get_extracted_data()\n",
    "data_2_series = pd.Series(data_2)\n",
    "df2 = pd.DataFrame(data_2_series)"
   ]
  },
  {
   "cell_type": "code",
   "execution_count": null,
   "id": "5212b7c9",
   "metadata": {},
   "outputs": [],
   "source": [
    "data_3 = ResumeParser('Muthamil’s resume-1.pdf').get_extracted_data()\n",
    "data_3_series = pd.Series(data_3)\n",
    "df3 = pd.DataFrame(data_3_series)"
   ]
  },
  {
   "cell_type": "code",
   "execution_count": null,
   "id": "cf3f0be1",
   "metadata": {},
   "outputs": [],
   "source": [
    "df = df.T"
   ]
  },
  {
   "cell_type": "code",
   "execution_count": null,
   "id": "3a74e474",
   "metadata": {},
   "outputs": [],
   "source": [
    "df1 = df1.T"
   ]
  },
  {
   "cell_type": "code",
   "execution_count": null,
   "id": "d9c2b1b5",
   "metadata": {},
   "outputs": [],
   "source": [
    "df2 = df2.T"
   ]
  },
  {
   "cell_type": "code",
   "execution_count": null,
   "id": "382af7e0",
   "metadata": {},
   "outputs": [],
   "source": [
    "df3 = df3.T"
   ]
  },
  {
   "cell_type": "code",
   "execution_count": null,
   "id": "4003c294",
   "metadata": {},
   "outputs": [],
   "source": [
    "df"
   ]
  },
  {
   "cell_type": "code",
   "execution_count": null,
   "id": "a2ef0dab",
   "metadata": {},
   "outputs": [],
   "source": [
    "df1"
   ]
  },
  {
   "cell_type": "code",
   "execution_count": null,
   "id": "329ce47b",
   "metadata": {},
   "outputs": [],
   "source": [
    "df2"
   ]
  },
  {
   "cell_type": "code",
   "execution_count": null,
   "id": "fa52ef43",
   "metadata": {},
   "outputs": [],
   "source": [
    "df3"
   ]
  },
  {
   "cell_type": "code",
   "execution_count": null,
   "id": "d89a8a57",
   "metadata": {},
   "outputs": [],
   "source": [
    "final_pdf = pd.concat([df,df1,df2,df3])"
   ]
  },
  {
   "cell_type": "code",
   "execution_count": null,
   "id": "35458aa3",
   "metadata": {},
   "outputs": [],
   "source": [
    "final_pdf = final_pdf.reset_index()"
   ]
  },
  {
   "cell_type": "code",
   "execution_count": null,
   "id": "c18a2681",
   "metadata": {},
   "outputs": [],
   "source": [
    "final_pdf.drop('index',axis=1,inplace=True)"
   ]
  },
  {
   "cell_type": "code",
   "execution_count": null,
   "id": "ffdf7a31",
   "metadata": {},
   "outputs": [],
   "source": [
    "final_pdf"
   ]
  },
  {
   "cell_type": "code",
   "execution_count": null,
   "id": "d9ed6ba1",
   "metadata": {},
   "outputs": [],
   "source": [
    "final_pdf.to_csv('ExtractedDetails.csv')"
   ]
  },
  {
   "cell_type": "code",
   "execution_count": null,
   "id": "a0bf7995",
   "metadata": {},
   "outputs": [],
   "source": []
  }
 ],
 "metadata": {
  "kernelspec": {
   "display_name": "Python 3",
   "language": "python",
   "name": "python3"
  },
  "language_info": {
   "codemirror_mode": {
    "name": "ipython",
    "version": 3
   },
   "file_extension": ".py",
   "mimetype": "text/x-python",
   "name": "python",
   "nbconvert_exporter": "python",
   "pygments_lexer": "ipython3",
   "version": "3.8.8"
  }
 },
 "nbformat": 4,
 "nbformat_minor": 5
}
